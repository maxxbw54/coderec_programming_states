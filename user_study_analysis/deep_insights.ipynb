{
 "cells": [
  {
   "cell_type": "code",
   "execution_count": 13,
   "metadata": {},
   "outputs": [],
   "source": [
    "import numpy as np\n",
    "import matplotlib.pyplot as plt\n",
    "import pandas as pd\n",
    "import json\n",
    "import copy\n",
    "import json\n",
    "from tqdm import tqdm\n",
    "import pickle\n",
    "import logging\n",
    "import math\n",
    "import matplotlib\n",
    "# plot calibration of Copilot confidences with XGBoost predictions\n",
    "from re import S\n",
    "from scipy.stats.stats import pearsonr  "
   ]
  },
  {
   "cell_type": "code",
   "execution_count": 14,
   "metadata": {},
   "outputs": [],
   "source": [
    "# open pickle logs_by_user_session_labeled\n",
    "with open('../data/logs_by_user_session_labeled.pkl', 'rb') as f:\n",
    "    logs_by_user_session_labeled = pickle.load(f)\n"
   ]
  },
  {
   "cell_type": "code",
   "execution_count": 15,
   "metadata": {},
   "outputs": [],
   "source": [
    "all_states = []\n",
    "all_actions = []\n",
    "all_times = []\n",
    "all_suggestions = []\n",
    "all_states_continuous = []\n",
    "all_times_continuous = []\n",
    "all_actions_continuous = []\n",
    "for i in range(len(logs_by_user_session_labeled)):\n",
    "    states = logs_by_user_session_labeled[i].LabeledState.to_numpy()\n",
    "    actions = logs_by_user_session_labeled[i].StateName.to_numpy()\n",
    "    times = logs_by_user_session_labeled[i].TimeSpentInState.to_numpy()\n",
    "    suggestions = logs_by_user_session_labeled[i].CurrentSuggestion.to_numpy()\n",
    "    # clean up states\n",
    "    for j in range(len(states)):\n",
    "        if states[j] == 'IDK':\n",
    "            states[j] = 'IDK (I)'\n",
    "        if states[j] == 'Looking up documentation' or states[j] == 'Looking up documentation (N)':\n",
    "            states[j] = 'Looking up Documentation (N)'\n",
    "        if states[j] == 'h':\n",
    "            states[j] = 'Thinking About New Code To Write (F)'\n",
    "        if states[j] == 'Thinking about new code to write (F)':\n",
    "            states[j] = 'Thinking About New Code To Write (F)'\n",
    "\n",
    "    # get indices where state is IDK\n",
    "    idk_indices = [i for i in range(len(states)) if states[i] == 'IDK (I)']\n",
    "    states = [states[i] for i in range(len(states)) if i not in idk_indices]\n",
    "    actions = [actions[i] for i in range(len(actions)) if i not in idk_indices]\n",
    "    times = [times[i] for i in range(len(times)) if i not in idk_indices]\n",
    "\n",
    "    states_continuous = []\n",
    "    times_continuous = []\n",
    "    actions_continuous = []\n",
    "    # merge states with same name\n",
    "    last_state = \"\"\n",
    "    times_cumalitive = 0\n",
    "    for i in range(len(states)):\n",
    "        if states[i] != last_state:\n",
    "            states_continuous.append(states[i])\n",
    "            last_state = states[i]\n",
    "            times_continuous.append(times_cumalitive + times[i])\n",
    "            times_cumalitive = 0\n",
    "        else:\n",
    "            times_cumalitive += times[i]\n",
    "    all_states_continuous.extend(states_continuous)\n",
    "    all_times_continuous.extend(times_continuous)\n",
    "    all_states.append(states)\n",
    "    all_actions.append(actions)\n",
    "    all_times.append(times)\n",
    "    all_suggestions.append(suggestions)"
   ]
  },
  {
   "cell_type": "code",
   "execution_count": 16,
   "metadata": {},
   "outputs": [],
   "source": [
    "# merge all pandas dataframes of logs_by_user_session_labeled into a single dataframe\n",
    "all_users_df = pd.concat(logs_by_user_session_labeled)\n",
    "all_users_df.reset_index(drop=True, inplace=True)"
   ]
  },
  {
   "cell_type": "markdown",
   "metadata": {},
   "source": [
    "# Time Adjustments"
   ]
  },
  {
   "cell_type": "code",
   "execution_count": 17,
   "metadata": {},
   "outputs": [
    {
     "name": "stdout",
     "output_type": "stream",
     "text": [
      "Defer Thought should add the thinking veriyfing suggestion time after the action n = 86\n",
      " (means) before adjusting: 2.41 +- 3.15 after adjusting: 11.03 +- 18.80\n",
      " (median) before adjusting: 1.31 +- 3.15 after adjusting: 3.10 +- 18.80\n",
      " post thinking time (means) 22.46 +- 21.23 occurs 0.38372093023255816\n",
      "Ttest_relResult(statistic=-4.649000252559726, pvalue=1.210616066807125e-05)\n"
     ]
    }
   ],
   "source": [
    "# for defer thought, check time after\n",
    "defer_thought_original = []\n",
    "defer_thought_new = []\n",
    "post_thinking_time = []\n",
    "for j in range(len(all_states)):\n",
    "    for i in range(len(all_states[j])-1):\n",
    "        if  all_states[j][i] == 'Deferring Thought For Later (D)':\n",
    "            defer_thought_original.append(all_times[j][i])\n",
    "            if all_states[j][i+1] == 'Thinking/Verifying Suggestion (A)':\n",
    "                defer_thought_new.append(all_times[j][i+1]+ all_times[j][i])\n",
    "                post_thinking_time.append(all_times[j][i+1])\n",
    "            else:\n",
    "                defer_thought_new.append(all_times[j][i])\n",
    "# mean of original and new\n",
    "\n",
    "print(f'Defer Thought should add the thinking veriyfing suggestion time after the action n = {len(defer_thought_new)}')\n",
    "print(f' (means) before adjusting: {np.mean(defer_thought_original):.2f} +- {np.std(defer_thought_original):.2f} after adjusting: {np.mean(defer_thought_new):.2f} +- {np.std(defer_thought_new):.2f}')\n",
    "print(f' (median) before adjusting: {np.median(defer_thought_original):.2f} +- {np.std(defer_thought_original):.2f} after adjusting: {np.median(defer_thought_new):.2f} +- {np.std(defer_thought_new):.2f}')\n",
    "# https://docs.scipy.org/doc/scipy/reference/generated/scipy.stats.ttest_rel.html\n",
    "print(f' post thinking time (means) {np.mean(post_thinking_time):.2f} +- {np.std(post_thinking_time):.2f} occurs {len(post_thinking_time)/len(defer_thought_new)}')\n",
    "# paired t-test\n",
    "import scipy\n",
    "def paired_ttest(a, b):\n",
    "    return scipy.stats.ttest_rel(a, b)\n",
    "print(paired_ttest(defer_thought_original, defer_thought_new))"
   ]
  },
  {
   "cell_type": "code",
   "execution_count": 18,
   "metadata": {},
   "outputs": [
    {
     "name": "stdout",
     "output_type": "stream",
     "text": [
      "Difference in mean: -8.62\n",
      "Difference in median: -1.80\n",
      "p value: 4.867047805462982e-05\n"
     ]
    },
    {
     "data": {
      "image/png": "[encoded data removed]",
      "text/plain": [
       "<Figure size 432x288 with 1 Axes>"
      ]
     },
     "metadata": {
      "needs_background": "light"
     },
     "output_type": "display_data"
    }
   ],
   "source": [
    "# test if there is a difference in the mean\n",
    "print(f'Difference in mean: {np.mean(defer_thought_original) - np.mean(defer_thought_new):.2f}')\n",
    "print(f'Difference in median: {np.median(defer_thought_original) - np.median(defer_thought_new):.2f}')\n",
    "# two sample t test if significant\n",
    "from scipy.stats import ttest_ind\n",
    "print(f'p value: {ttest_ind(defer_thought_original, defer_thought_new)[1]}')\n",
    "# plot\n",
    "# truncate times to only show first 10 seconds\n",
    "defer_thought_original_trunc = [i for i in defer_thought_original if i < 50]\n",
    "defer_thought_new_trunc = [i for i in defer_thought_new if i < 50]\n",
    "\n",
    "plt.hist(defer_thought_original_trunc, bins=15, alpha=0.5, label='Non-Adjusted')\n",
    "plt.hist(defer_thought_new_trunc, bins=15, alpha=0.5, label='Adjusted for time spent thinking after accepting')\n",
    "plt.legend()\n",
    "plt.xlabel('Time spent thinking about suggestion when deferring thought (s)')\n",
    "plt.ylabel('Frequency')\n",
    "plt.savefig('defer_thought_hist.pdf')\n",
    "plt.show()\n"
   ]
  },
  {
   "cell_type": "code",
   "execution_count": 19,
   "metadata": {},
   "outputs": [
    {
     "name": "stdout",
     "output_type": "stream",
     "text": [
      " post thinking time (means) 5.51 +- 12.76 occurs 0.5127388535031847\n",
      "Thinking should add  and time spent thinking after   n=628 \n",
      "(means) before adjusting: 5.27 +- 11.89 after adjusting: 8.09 +- 16.63\n",
      " (median) before adjusting: 1.21 +- 11.89 after adjusting: 2.38 +- 16.63\n",
      "Ttest_relResult(statistic=-7.410473984278942, pvalue=4.0880382584636513e-13)\n"
     ]
    }
   ],
   "source": [
    "# for thinking , check time after\n",
    "thinking_original = []\n",
    "thinking_new = []\n",
    "post_thinking_time = []\n",
    "\n",
    "for j in range(len(all_states)):\n",
    "    for i in range(len(all_states[j])-1):\n",
    "        if  all_states[j][i] == 'Thinking/Verifying Suggestion (A)':\n",
    "            thinking_original.append(all_times[j][i])\n",
    "            new_time = all_times[j][i]\n",
    "            if all_states[j][i+1] == 'Thinking/Verifying Suggestion (A)':\n",
    "                new_time += all_times[j][i+1]\n",
    "                post_thinking_time.append(all_times[j][i+1])\n",
    "\n",
    "            #if all_states[j][i-1] == 'Waiting For Suggestion (G)':\n",
    "            #    new_time += all_times[j][i-1]\n",
    "            thinking_new.append(new_time)\n",
    "# mean of original and new\n",
    "\n",
    "# print\n",
    "print(f' post thinking time (means) {np.mean(post_thinking_time):.2f} +- {np.std(post_thinking_time):.2f} occurs {len(post_thinking_time)/len(thinking_new)}')\n",
    "\n",
    "print(f'Thinking should add  and time spent thinking after   n={len(thinking_new)} ')\n",
    "print(f'(means) before adjusting: {np.mean(thinking_original):.2f} +- {np.std(thinking_original):.2f} after adjusting: {np.mean(thinking_new):.2f} +- {np.std(thinking_new):.2f}')\n",
    "print(f' (median) before adjusting: {np.median(thinking_original):.2f} +- {np.std(thinking_original):.2f} after adjusting: {np.median(thinking_new):.2f} +- {np.std(thinking_new):.2f}')\n",
    "print(paired_ttest(thinking_original, thinking_new))"
   ]
  },
  {
   "cell_type": "code",
   "execution_count": 20,
   "metadata": {},
   "outputs": [
    {
     "name": "stdout",
     "output_type": "stream",
     "text": [
      "p value: Ttest_indResult(statistic=2.2178511765774935, pvalue=0.026879855723199054)\n"
     ]
    }
   ],
   "source": [
    "# t test if significant\n",
    "print(f'p value: {ttest_ind(thinking_original, defer_thought_original)}')"
   ]
  },
  {
   "cell_type": "code",
   "execution_count": 21,
   "metadata": {},
   "outputs": [
    {
     "name": "stdout",
     "output_type": "stream",
     "text": [
      "Thinking should add  the time spent waiting before  n=439 \n",
      "(means) before adjusting: 6.11 +- 15.52 after adjusting: 6.51 +- 15.61\n",
      " (median) before adjusting: 1.99 +- 15.52 after adjusting: 2.19 +- 15.61\n",
      "Ttest_relResult(statistic=-5.508651375506937, pvalue=6.177425718343933e-08)\n",
      " waiting time 2.55 +- 3.08 and probability 0.15945330296127563\n"
     ]
    }
   ],
   "source": [
    "# for defer thought, check time after\n",
    "thinking_original = []\n",
    "thinking_new = []\n",
    "waiting_time = []\n",
    "for j in range(len(all_states)):\n",
    "    for i in range(len(all_states[j])-1):\n",
    "        if all_actions[j][i] in ['Accepted', 'Rejected'] and all_states[j][i] in ['Thinking/Verifying Suggestion (A)',\n",
    "                'Waiting For Suggestion (G)', 'Deferring Thought For Later (D)', 'Thinking About New Code To Write (F)']:\n",
    "            thinking_original.append(all_times[j][i])\n",
    "            new_time = all_times[j][i]\n",
    "            if all_states[j][i-1] == 'Waiting For Suggestion (G)':\n",
    "                waiting_time.append(all_times[j][i-1])\n",
    "                new_time += all_times[j][i-1]\n",
    "            thinking_new.append(new_time)\n",
    "# mean of original and new\n",
    "\n",
    "# print\n",
    "print(f'Thinking should add  the time spent waiting before  n={len(thinking_new)} ')\n",
    "print(f'(means) before adjusting: {np.mean(thinking_original):.2f} +- {np.std(thinking_original):.2f} after adjusting: {np.mean(thinking_new):.2f} +- {np.std(thinking_new):.2f}')\n",
    "print(f' (median) before adjusting: {np.median(thinking_original):.2f} +- {np.std(thinking_original):.2f} after adjusting: {np.median(thinking_new):.2f} +- {np.std(thinking_new):.2f}')\n",
    "print(paired_ttest(thinking_original, thinking_new))\n",
    "print(f' waiting time {np.mean(waiting_time):.2f} +- {np.std(waiting_time):.2f} and probability {len(waiting_time)/len(thinking_new)}')"
   ]
  },
  {
   "cell_type": "markdown",
   "metadata": {},
   "source": [
    "# Analysis of suggestions that are defered thought vs not"
   ]
  },
  {
   "cell_type": "code",
   "execution_count": 22,
   "metadata": {},
   "outputs": [
    {
     "name": "stdout",
     "output_type": "stream",
     "text": [
      "defered_thought_suggestions \n",
      " \n",
      "\n",
      "['\"    for j in range(len(row)):\"' '\"    def get_text(self):\"'\n",
      " '\"    def add_text(self, text):\"' '\"    def add_id(self, id):\"'\n",
      " '\"randomforest.fit(X_train, Y_train)\"'\n",
      " '\"i, v) in enumerate(query):\\\\n            if i % 2 == 0:\\\\n                query[i] = v ** 2\\\\n            else:\\\\n                query[i] = abs(v)\"'\n",
      " '\"# add a method to the class called \\\\\"get_text\\\\\" that returns the \\\\\"text\\\\\" attribute\"'\n",
      " '\"    combinations = np.multiply.outer(row, row)\"'\n",
      " '\"features(x, y, k):\\\\n    # pick k features that are most correlated with y\\\\n    # x is a numpy array of shape (n, m)\\\\n    # y is a numpy array of shape (n,)\\\\n    # return a numpy array of shape (n, k)\\\\n    corr = np.corrcoef(x, y, rowvar=False)\\\\n    corr = corr[-1, :-1]\\\\n    idx = np.argsort(corr)\\\\n    idx = idx[-k:]\\\\n    return x[:, idx]\"'\n",
      " '\"i, v) in enumerate(query):\\\\n            if i % 2 == 0:\\\\n                query[i] = v ** 2\\\\n            else:\\\\n                query[i] = abs(v)\"']\n",
      "thinking suggestions \n",
      " \n",
      "\n",
      "['\"        print(\\'Success rate: {}%\\'.format(success_rate / (len(self.correct_test_cases) + len(self.incorrect_test_cases)) * 100))\"'\n",
      " '\"= 0.2\"' '\" in enumerate(X_vector):\"'\n",
      " '\"(X, Y, test_size=0.2, random_state=42)\"'\n",
      " '\"\\\\n    def __init__(self, learning_rate=\"'\n",
      " '\"                X_vector.append(value1 * value2)\"'\n",
      " '\"        if(input[i][0] <= temp[1]){\\\\n            temp[1] = max(temp[1], input[i][1]);\\\\n            output.pop_back();\\\\n            output.push_back(temp);\\\\n        }\\\\n        else{\\\\n            output.push_back(input[i]);\\\\n        }\"'\n",
      " '\"corr == np.max(corr))\"' '\"np.isnan(X_train)\"'\n",
      " '\"rEach((num, index) => {\"']\n",
      "n = 86Avg characters for defered thought suggestions: 75.81 median characters: 40.00 std characters: 80.20\n",
      "Avg lines for defered thought suggestions: 2.30 median lines: 1.00 std lines: 2.42\n",
      "n = 636Avg characters for thinking suggestions: 69.06 median characters: 30.00 std characters: 103.19\n",
      "Avg lines for thinking suggestions: 2.29 median lines: 1.00 std lines: 3.04\n",
      "ttest_ind(thinking_suggestions_characters, defered_thought_suggestions_characters) = Ttest_indResult(statistic=-0.582698618190902, pvalue=0.5602786417475837)\n",
      "ttest_ind(thinking_suggestions_lines, defered_thought_suggestions_lines) = Ttest_indResult(statistic=-0.028876743413732583, pvalue=0.9769708960004462)\n"
     ]
    }
   ],
   "source": [
    "# get suggestions in all_users_df where LabeledState is Defered Thought\n",
    "defered_thought_suggestions = all_users_df[all_users_df['LabeledState'] == 'Deferring Thought For Later (D)'].CurrentSuggestion.to_numpy()\n",
    "thinking_suggestions = all_users_df[all_users_df['LabeledState'] == 'Thinking/Verifying Suggestion (A)'].CurrentSuggestion.to_numpy()\n",
    "# print random sample of suggestions from each \n",
    "print('defered_thought_suggestions \\n \\n')\n",
    "print(defered_thought_suggestions[np.random.randint(len(defered_thought_suggestions), size=10)])\n",
    "print('thinking suggestions \\n \\n')\n",
    "print(thinking_suggestions[np.random.randint(len(thinking_suggestions), size=10)])\n",
    "\n",
    "# compare number of characters and lines between the two groups\n",
    "defered_thought_suggestions_characters = []\n",
    "thinking_suggestions_characters = []\n",
    "defered_thought_suggestions_lines = []\n",
    "thinking_suggestions_lines = []\n",
    "for i in range(len(defered_thought_suggestions)):\n",
    "    defered_thought_suggestions_characters.append(len(defered_thought_suggestions[i]))\n",
    "    defered_thought_suggestions_lines.append(len(defered_thought_suggestions[i].split('\\\\n')))\n",
    "\n",
    "for i in range(len(thinking_suggestions)):\n",
    "    thinking_suggestions_characters.append(len(thinking_suggestions[i]))\n",
    "    thinking_suggestions_lines.append(len(thinking_suggestions[i].split('\\\\n')))\n",
    "\n",
    "# print average and median number of characters and lines for each group\n",
    "print(f'n = {len(defered_thought_suggestions)}Avg characters for defered thought suggestions: {np.mean(defered_thought_suggestions_characters):.2f} median characters: {np.median(defered_thought_suggestions_characters):.2f} std characters: {np.std(defered_thought_suggestions_characters):.2f}')\n",
    "print(f'Avg lines for defered thought suggestions: {np.mean(defered_thought_suggestions_lines):.2f} median lines: {np.median(defered_thought_suggestions_lines):.2f} std lines: {np.std(defered_thought_suggestions_lines):.2f}')\n",
    "print(f'n = {len(thinking_suggestions_characters)}Avg characters for thinking suggestions: {np.mean(thinking_suggestions_characters):.2f} median characters: {np.median(thinking_suggestions_characters):.2f} std characters: {np.std(thinking_suggestions_characters):.2f}')\n",
    "print(f'Avg lines for thinking suggestions: {np.mean(thinking_suggestions_lines):.2f} median lines: {np.median(thinking_suggestions_lines):.2f} std lines: {np.std(thinking_suggestions_lines):.2f}')\n",
    "# two sample t test, one for characters and one for lines\n",
    "from scipy.stats import ttest_ind\n",
    "print(f'ttest_ind(thinking_suggestions_characters, defered_thought_suggestions_characters) = {ttest_ind(thinking_suggestions_characters, defered_thought_suggestions_characters)}')\n",
    "print(f'ttest_ind(thinking_suggestions_lines, defered_thought_suggestions_lines) = {ttest_ind(thinking_suggestions_lines, defered_thought_suggestions_lines)}')\n",
    "\n"
   ]
  },
  {
   "cell_type": "code",
   "execution_count": 23,
   "metadata": {},
   "outputs": [
    {
     "name": "stdout",
     "output_type": "stream",
     "text": [
      "prev_states_defer = {'Thinking/Verifying Suggestion (A)': 0.12790697674418605, 'Writing New Functionality (Z)': 0.20930232558139536, 'Deferring Thought For Later (D)': 0.29069767441860467, 'Thinking About New Code To Write (F)': 0.06976744186046512, 'Edditing Last Suggestion (X)': 0.046511627906976744, 'Waiting For Suggestion (G)': 0.13953488372093023, 'Debugging/Testing Code (H)': 0.023255813953488372, 'Editing Written Code(C)': 0.011627906976744186, 'Prompt Crafting (V)': 0.06976744186046512, 'Looking up Documentation (N)': 0.011627906976744186}\n",
      "prev_states_thinking = {'Waiting For Suggestion (G)': 0.08376068376068375, 'Edditing Last Suggestion (X)': 0.03076923076923077, 'Prompt Crafting (V)': 0.0905982905982906, 'Thinking/Verifying Suggestion (A)': 0.5008547008547009, 'Writing New Functionality (Z)': 0.15897435897435896, 'Thinking About New Code To Write (F)': 0.046153846153846156, 'Debugging/Testing Code (H)': 0.015384615384615385, 'Deferring Thought For Later (D)': 0.05641025641025641, 'Editing Written Code(C)': 0.011965811965811967, 'Looking up Documentation (N)': 0.0017094017094017094, 'Writing Documentation (B)': 0.003418803418803419}\n"
     ]
    }
   ],
   "source": [
    "prev_states_defer = {}\n",
    "prev_states_thinking = {}\n",
    "for j in range(1, len(all_states)):\n",
    "    for i in range(len(all_states[j])):\n",
    "        if all_states[j][i] == 'Deferring Thought For Later (D)':\n",
    "            if all_states[j][i-1] not in prev_states_defer:\n",
    "                prev_states_defer[all_states[j][i-1]] = 1\n",
    "            else:\n",
    "                prev_states_defer[all_states[j][i-1]] += 1\n",
    "        if all_states[j][i] == 'Thinking/Verifying Suggestion (A)':\n",
    "            if all_states[j][i-1] not in prev_states_thinking:\n",
    "                prev_states_thinking[all_states[j][i-1]] = 1\n",
    "            else:\n",
    "                prev_states_thinking[all_states[j][i-1]] += 1\n",
    "\n",
    "# instead of counts make it a probability\n",
    "sum_defer = sum(prev_states_defer.values())\n",
    "for key in prev_states_defer:\n",
    "    prev_states_defer[key] = prev_states_defer[key]/sum_defer\n",
    "sum_thinking = sum(prev_states_thinking.values())\n",
    "for key in prev_states_thinking:\n",
    "    prev_states_thinking[key] = prev_states_thinking[key]/sum_thinking\n",
    "    \n",
    "# print\n",
    "print(f'prev_states_defer = {prev_states_defer}')\n",
    "print(f'prev_states_thinking = {prev_states_thinking}')\n"
   ]
  },
  {
   "cell_type": "markdown",
   "metadata": {},
   "source": [
    "# likelihood of editing depending on thinking time"
   ]
  },
  {
   "cell_type": "code",
   "execution_count": 24,
   "metadata": {},
   "outputs": [
    {
     "name": "stdout",
     "output_type": "stream",
     "text": [
      "{'Deferring Thought For Later (D)': 33, 'Thinking/Verifying Suggestion (A)': 39, 'Waiting For Suggestion (G)': 0, 'Thinking About New Code To Write (F)': 2}\n",
      "{'Deferring Thought For Later (D)': 62, 'Thinking/Verifying Suggestion (A)': 216, 'Waiting For Suggestion (G)': 3, 'Thinking About New Code To Write (F)': 8}\n",
      "Probability of edit Thinking/Verifying Suggestion (A):  0.18055555555555555\n",
      "Probability of edit Deferring Thought For Late: 0.532258064516129\n",
      "Probability of edit Thinking About New Code To Write: 0.25\n"
     ]
    }
   ],
   "source": [
    "counts_edits = {'Deferring Thought For Later (D)':0, 'Thinking/Verifying Suggestion (A)':0, 'Waiting For Suggestion (G)':0, 'Thinking About New Code To Write (F)':0}\n",
    "counts_states = {'Deferring Thought For Later (D)':0, 'Thinking/Verifying Suggestion (A)':0, 'Waiting For Suggestion (G)':0, 'Thinking About New Code To Write (F)':0}\n",
    "\n",
    "for j in range(len(all_states)):\n",
    "    for i in range(len(all_states[j])-1):\n",
    "        if all_actions[j][i] in ['Accepted']:\n",
    "            if all_states[j][i] == 'Thinking/Verifying Suggestion (A)':\n",
    "                counts_states['Thinking/Verifying Suggestion (A)'] += 1\n",
    "                if all_states[j][i+1] == 'Editing Last Suggestion (X)':\n",
    "                    counts_edits['Thinking/Verifying Suggestion (A)'] += 1\n",
    "            if all_states[j][i] == 'Deferring Thought For Later (D)':\n",
    "                counts_states['Deferring Thought For Later (D)'] += 1\n",
    "                if all_states[j][i+1] == 'Thinking/Verifying Suggestion (A)':\n",
    "                    counts_edits['Deferring Thought For Later (D)'] += 1\n",
    "            if all_states[j][i] == 'Waiting For Suggestion (G)':\n",
    "                counts_states['Waiting For Suggestion (G)'] += 1\n",
    "                if all_states[j][i+1] == 'Thinking/Verifying Suggestion (A)':\n",
    "                    counts_edits['Waiting For Suggestion (G)'] += 1\n",
    "            if all_states[j][i] == 'Thinking About New Code To Write (F)':\n",
    "                counts_states['Thinking About New Code To Write (F)'] += 1\n",
    "                if all_states[j][i+1] == 'Thinking/Verifying Suggestion (A)':\n",
    "                    counts_edits['Thinking About New Code To Write (F)'] += 1\n",
    "# print probability of edit\n",
    "print(counts_edits)\n",
    "print(counts_states)\n",
    "print(f'Probability of edit Thinking/Verifying Suggestion (A):  {counts_edits[\"Thinking/Verifying Suggestion (A)\"]/counts_states[\"Thinking/Verifying Suggestion (A)\"]}')\n",
    "print(f'Probability of edit Deferring Thought For Late: {counts_edits[\"Deferring Thought For Later (D)\"]/counts_states[\"Deferring Thought For Later (D)\"]}')\n",
    "print(f'Probability of edit Thinking About New Code To Write: {counts_edits[\"Thinking About New Code To Write (F)\"]/counts_states[\"Thinking About New Code To Write (F)\"]}')"
   ]
  },
  {
   "cell_type": "code",
   "execution_count": 25,
   "metadata": {},
   "outputs": [
    {
     "name": "stdout",
     "output_type": "stream",
     "text": [
      "stat=29.243, p=0.000\n",
      "Different proportions of accepts (reject H0)\n"
     ]
    }
   ],
   "source": [
    "from scipy.stats import ttest_ind\n",
    "thinking_accepts = [0] * counts_states['Thinking/Verifying Suggestion (A)']\n",
    "thinking_accepts[0:counts_edits['Thinking/Verifying Suggestion (A)']] = [1] * counts_edits['Thinking/Verifying Suggestion (A)']\n",
    "writing_accepts = [0] * counts_states['Deferring Thought For Later (D)']\n",
    "writing_accepts[0:counts_edits['Deferring Thought For Later (D)']] = [1] * counts_edits['Deferring Thought For Later (D)']\n",
    "# shuffle both arrays\n",
    "np.random.shuffle(thinking_accepts)\n",
    "np.random.shuffle(writing_accepts)\n",
    "\n",
    "\n",
    "# chi square test to compare means\n",
    "from scipy.stats import chi2_contingency\n",
    "table = [[counts_edits['Thinking/Verifying Suggestion (A)'], counts_states['Thinking/Verifying Suggestion (A)'] - counts_edits['Thinking/Verifying Suggestion (A)']], [counts_edits['Deferring Thought For Later (D)'], counts_states['Deferring Thought For Later (D)'] - counts_edits['Deferring Thought For Later (D)']]]\n",
    "\n",
    "stat, p, dof, expected = chi2_contingency(table)\n",
    "print('stat=%.3f, p=%.3f' % (stat, p))\n",
    "# interpret p-value\n",
    "alpha = 0.05\n",
    "if p > alpha:\n",
    "    print('Same proportions of accepts (fail to reject H0)')\n",
    "else:\n",
    "    print('Different proportions of accepts (reject H0)')\n",
    "    "
   ]
  },
  {
   "cell_type": "code",
   "execution_count": 26,
   "metadata": {},
   "outputs": [
    {
     "name": "stdout",
     "output_type": "stream",
     "text": [
      "Linear regression: slope=3.34, intercept=0.37, r_value=0.56, p_value=0.00, std_err=0.71\n",
      "Pearson correlation: correlation=0.56, p_value=0.00\n"
     ]
    },
    {
     "data": {
      "image/png": "[encoded data removed]",
      "text/plain": [
       "<Figure size 432x288 with 1 Axes>"
      ]
     },
     "metadata": {
      "needs_background": "light"
     },
     "output_type": "display_data"
    }
   ],
   "source": [
    "time_thinking_list = []\n",
    "time_editing_list = []\n",
    "for j in range(len(all_states)):\n",
    "    for i in range(len(all_states[j])-1):\n",
    "        if all_actions[j][i] in ['Accepted']:\n",
    "            if all_states[j][i+1] == 'Editing Last Suggestion (X)':\n",
    "                word_lenght = len(all_suggestions[j][i])\n",
    "                time_editing_list.append(all_times[j][i+1]/word_lenght)\n",
    "                time_thinking_list.append(all_times[j][i]/word_lenght)\n",
    "\n",
    "# plot the two lists against each other and see if correlations\n",
    "plt.scatter( time_thinking_list, time_editing_list)\n",
    "plt.ylabel('Time editing  suggestion (s/char)')\n",
    "plt.xlabel('Time  thinking about suggestion before accepting (s/char)')\n",
    "# make x and y axis same\n",
    "\n",
    "# linear trend\n",
    "from scipy.stats import linregress\n",
    "slope, intercept, r_value, p_value, std_err = linregress( time_thinking_list, time_editing_list)\n",
    "print(f'Linear regression: slope={slope:.2f}, intercept={intercept:.2f}, r_value={r_value:.2f}, p_value={p_value:.2f}, std_err={std_err:.2f}')\n",
    "# get correlation between time thinking and time editing\n",
    "from scipy.stats import pearsonr\n",
    "correlation, p_value = pearsonr( time_thinking_list, time_editing_list)\n",
    "print(f'Pearson correlation: correlation={correlation:.2f}, p_value={p_value:.2f}')\n",
    "plt.plot(time_thinking_list, [slope*x+intercept for x in time_thinking_list], 'r', label=f'linear fit (pearson corr = {correlation:.2f})')\n",
    "plt.xlim(0,0.3)\n",
    "plt.ylim(0,2)\n",
    "plt.legend()\n",
    "plt.savefig('time_editing_time_thinking.pdf')\n",
    "plt.show()"
   ]
  },
  {
   "cell_type": "code",
   "execution_count": 27,
   "metadata": {},
   "outputs": [
    {
     "name": "stderr",
     "output_type": "stream",
     "text": [
      "/tmp/ipykernel_9699/441535929.py:26: UserWarning: color is redundantly defined by the 'color' keyword argument and the fmt string \"r\" (-> color=(1.0, 0.0, 0.0, 1)). The keyword argument will take precedence.\n",
      "  plt.plot(suggs_lenght, [slope*x+intercept for x in suggs_lenght], 'r', label=f'thinking', color='orange')\n",
      "/tmp/ipykernel_9699/441535929.py:30: UserWarning: color is redundantly defined by the 'color' keyword argument and the fmt string \"r\" (-> color=(1.0, 0.0, 0.0, 1)). The keyword argument will take precedence.\n",
      "  plt.plot(suggs_lenght, [slope*x+intercept for x in suggs_lenght], 'r', label=f'editing', color='blue')\n",
      "/tmp/ipykernel_9699/441535929.py:34: UserWarning: color is redundantly defined by the 'color' keyword argument and the fmt string \"r\" (-> color=(1.0, 0.0, 0.0, 1)). The keyword argument will take precedence.\n",
      "  plt.plot(suggs_lenght, [slope*x+intercept for x in suggs_lenght], 'r', label=f'sum', color='green')\n"
     ]
    },
    {
     "data": {
      "image/png": "[encoded data removed]",
      "text/plain": [
       "<Figure size 432x288 with 1 Axes>"
      ]
     },
     "metadata": {
      "needs_background": "light"
     },
     "output_type": "display_data"
    }
   ],
   "source": [
    "time_thinking_list = []\n",
    "time_editing_list = []\n",
    "suggs_lenght = []\n",
    "sum_time_edit = []\n",
    "for j in range(len(all_states)):\n",
    "    for i in range(len(all_states[j])-1):\n",
    "        if all_actions[j][i] in ['Accepted']:\n",
    "            if all_states[j][i+1] == 'Editing Last Suggestion (X)':\n",
    "                word_lenght = len(all_suggestions[j][i].split())\n",
    "                time_editing_list.append(all_times[j][i+1])\n",
    "                time_thinking_list.append(all_times[j][i])\n",
    "                suggs_lenght.append(word_lenght)\n",
    "                sum_time_edit.append((all_times[j][i+1]+all_times[j][i]))\n",
    "\n",
    "# plot the two lists against each other and see if correlations\n",
    "plt.scatter( suggs_lenght, time_editing_list, label='Time editing  suggestion (s)')\n",
    "plt.scatter(    suggs_lenght, time_thinking_list, label='Time  thinking about suggestion before accepting (s)')\n",
    "plt.scatter(    suggs_lenght, sum_time_edit, label='Time  thinking about suggestion before accepting + time editing (s)')\n",
    "plt.ylabel('Time')\n",
    "plt.xlabel('Number of Characters in Suggestion')\n",
    "# make x and y axis same\n",
    "from scipy.stats import linregress\n",
    "\n",
    "slope, intercept, r_value, p_value, std_err = linregress( suggs_lenght, time_thinking_list)\n",
    "# get correlation between time thinking and time editing\n",
    "plt.plot(suggs_lenght, [slope*x+intercept for x in suggs_lenght], 'r', label=f'thinking', color='orange')\n",
    "\n",
    "slope, intercept, r_value, p_value, std_err = linregress( suggs_lenght, time_editing_list)\n",
    "# get correlation between time thinking and time editing\n",
    "plt.plot(suggs_lenght, [slope*x+intercept for x in suggs_lenght], 'r', label=f'editing', color='blue')\n",
    "\n",
    "slope, intercept, r_value, p_value, std_err = linregress( suggs_lenght, sum_time_edit)\n",
    "# get correlation between time thinking and time editing\n",
    "plt.plot(suggs_lenght, [slope*x+intercept for x in suggs_lenght], 'r', label=f'sum', color='green')\n",
    "\n",
    "\n",
    "#plt.xlim(0,0.3)\n",
    "plt.ylim(0,60)\n",
    "plt.legend()\n",
    "plt.show()"
   ]
  },
  {
   "cell_type": "markdown",
   "metadata": {},
   "source": [
    "# Prompt Crafting Understanding"
   ]
  },
  {
   "cell_type": "code",
   "execution_count": 28,
   "metadata": {},
   "outputs": [
    {
     "name": "stdout",
     "output_type": "stream",
     "text": [
      "n = 234 Probability of accept while prompt crafting: 0.10683760683760683\n"
     ]
    }
   ],
   "source": [
    "# probability of accept while prompt crafting\n",
    "prompt_crafting_count = 0\n",
    "accepted_when_prompt_crafting = 0\n",
    "for j in range(len(all_states)):\n",
    "    for i in range(1, len(all_states[j])-1):\n",
    "        if all_actions[j][i] in ['Accepted', 'Rejected']:\n",
    "            if all_states[j][i] == 'Prompt Crafting (V)':\n",
    "                prompt_crafting_count += 1\n",
    "                if all_actions[j][i] == 'Accepted':# and all_states[j][i+1] == 'Prompt Crafting (V)':\n",
    "                        accepted_when_prompt_crafting += 1\n",
    "\n",
    "print(f'n = {prompt_crafting_count} Probability of accept while prompt crafting: {accepted_when_prompt_crafting/prompt_crafting_count}')"
   ]
  },
  {
   "cell_type": "code",
   "execution_count": 29,
   "metadata": {},
   "outputs": [
    {
     "name": "stdout",
     "output_type": "stream",
     "text": [
      "n = 284 Probability of accept after prompt crafting: 0.07394366197183098\n"
     ]
    }
   ],
   "source": [
    "# how often does prompt crafting end in an accept\n",
    "# probability of accept while prompt crafting\n",
    "prompt_crafting_count = 0\n",
    "accepted_when_prompt_crafting = 0\n",
    "for j in range(len(all_states)):\n",
    "    i = 0\n",
    "    while i < len(all_states[j])-1:\n",
    "        if all_states[j][i] == 'Prompt Crafting (V)':\n",
    "            # get state where prompt crafting ends\n",
    "            last_prompt_state = i\n",
    "            prompt_crafting_count += 1\n",
    "            last_episode_state = i\n",
    "            for k in range(i+1, len(all_states[j])):\n",
    "                if all_states[j][k] in [ 'Writing New Functionality (Z)', 'Editing Written Code(C)']:\n",
    "                    # this means prompt crafting ended, let's check if there was an accept just before prompt crafting ended\n",
    "                    last_episode_state = k\n",
    "                    break\n",
    "\n",
    "            for k in range(i+1, last_episode_state):\n",
    "                if all_states[j][k] == 'Prompt Crafting (V)':\n",
    "                    last_prompt_state = k\n",
    "                    \n",
    "\n",
    "            for k in range(last_prompt_state+1, last_episode_state):\n",
    "                if all_actions[j][k] == 'Accepted':\n",
    "                    accepted_when_prompt_crafting += 1\n",
    "                    break\n",
    "            \n",
    "            i = last_episode_state + 1\n",
    "            # print the trajectory\n",
    "        else:\n",
    "            i += 1\n",
    "\n",
    "print(f'n = {prompt_crafting_count} Probability of accept after prompt crafting: {accepted_when_prompt_crafting/prompt_crafting_count}')"
   ]
  },
  {
   "cell_type": "markdown",
   "metadata": {},
   "source": [
    "# Predicting Actions from Hidden States"
   ]
  },
  {
   "cell_type": "code",
   "execution_count": 30,
   "metadata": {},
   "outputs": [
    {
     "name": "stdout",
     "output_type": "stream",
     "text": [
      "Probability of accept for each state:\n",
      "Thinking/Verifying Suggestion (A): 0.702819956616052\n",
      "Prompt Crafting (V): 0.16382978723404254\n",
      "Looking up Documentation (N): 0.25\n",
      "Writing New Functionality (Z): 0.1989100817438692\n",
      "Thinking About New Code To Write (F): 0.2073170731707317\n",
      "Edditing Last Suggestion (X): 0.16037735849056603\n",
      "Waiting For Suggestion (G): 0.4188034188034188\n",
      "Editing Written Code(C): 0.11428571428571428\n",
      "Writing Documentation (B): 0.36363636363636365\n",
      "Debugging/Testing Code (H): 0.25555555555555554\n",
      "Deferring Thought For Later (D): 0.9879518072289156\n",
      "Not Thinking (S): 1.0\n"
     ]
    }
   ],
   "source": [
    "# given each state get probability of accept\n",
    "states_accept = {}\n",
    "states_count = {}\n",
    "\n",
    "for j in range(len(all_states)):\n",
    "    for i in range(1, len(all_states[j])):\n",
    "        if all_actions[j][i] in ['Accepted', 'Rejected']:\n",
    "            state_now = all_states[j][i]\n",
    "            state_before = all_states[j][i-1]\n",
    "            if state_now not in states_count:\n",
    "                states_count[state_now] = 1\n",
    "                states_accept[state_now] = 0\n",
    "\n",
    "            else:\n",
    "                states_count[state_now] += 1\n",
    "\n",
    "            if state_before not in states_count:\n",
    "                states_accept[state_before] = 0\n",
    "                states_count[state_before] = 1\n",
    "            else:  \n",
    "                states_count[state_before] += 1\n",
    "            \n",
    "            if all_actions[j][i] == 'Accepted':\n",
    "                states_accept[state_now] += 1\n",
    "                states_accept[state_before] += 1\n",
    "\n",
    "print(f'Probability of accept for each state:')\n",
    "for state in states_count:\n",
    "    print(f'{state}: {states_accept[state]/states_count[state]}')\n",
    "    "
   ]
  },
  {
   "cell_type": "code",
   "execution_count": 31,
   "metadata": {},
   "outputs": [
    {
     "name": "stdout",
     "output_type": "stream",
     "text": [
      "stat=119.357, p=0.000\n",
      "Different proportions of accepts (reject H0)\n"
     ]
    }
   ],
   "source": [
    "from scipy.stats import ttest_ind\n",
    "thinking_accepts = [0] * states_count['Thinking/Verifying Suggestion (A)']\n",
    "thinking_accepts[0:states_accept['Thinking/Verifying Suggestion (A)']] = [1] * states_accept['Thinking/Verifying Suggestion (A)']\n",
    "writing_accepts = [0] * states_count['Thinking About New Code To Write (F)']\n",
    "writing_accepts[0:states_accept['Thinking About New Code To Write (F)']] = [1] * states_accept['Thinking About New Code To Write (F)']\n",
    "# shuffle both arrays\n",
    "np.random.shuffle(thinking_accepts)\n",
    "np.random.shuffle(writing_accepts)\n",
    "\n",
    "\n",
    "# chi square test to compare means\n",
    "from scipy.stats import chi2_contingency\n",
    "table = [[states_accept['Thinking/Verifying Suggestion (A)'], states_count['Thinking/Verifying Suggestion (A)'] - states_accept['Thinking/Verifying Suggestion (A)']], [states_accept['Thinking About New Code To Write (F)'], states_count['Thinking About New Code To Write (F)'] - states_accept['Thinking About New Code To Write (F)']]]\n",
    "stat, p, dof, expected = chi2_contingency(table)\n",
    "print('stat=%.3f, p=%.3f' % (stat, p))\n",
    "# interpret p-value\n",
    "alpha = 0.05\n",
    "if p > alpha:\n",
    "    print('Same proportions of accepts (fail to reject H0)')\n",
    "else:\n",
    "    print('Different proportions of accepts (reject H0)')\n",
    "    "
   ]
  }
 ],
 "metadata": {
  "kernelspec": {
   "display_name": "Python 3.9.13 ('hussein': conda)",
   "language": "python",
   "name": "python3"
  },
  "language_info": {
   "codemirror_mode": {
    "name": "ipython",
    "version": 3
   },
   "file_extension": ".py",
   "mimetype": "text/x-python",
   "name": "python",
   "nbconvert_exporter": "python",
   "pygments_lexer": "ipython3",
   "version": "3.9.13"
  },
  "orig_nbformat": 4,
  "vscode": {
   "interpreter": {
    "hash": "e710af216e809473b1f2bcdee939ed3d8fc69fba0a18fe13b179176696cffea0"
   }
  }
 },
 "nbformat": 4,
 "nbformat_minor": 2
}
