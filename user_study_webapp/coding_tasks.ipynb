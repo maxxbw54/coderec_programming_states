{
 "cells": [
  {
   "cell_type": "markdown",
   "metadata": {},
   "source": [
    "# Algorithmic problems\n",
    "\n",
    "e.g. Leetcode style problems"
   ]
  },
  {
   "cell_type": "markdown",
   "metadata": {},
   "source": [
    "Implement 2sum, 3sum, 4sum as functions seperately, create a single test for each function\n",
    "\n",
    "https://leetcode.com/problems/two-sum/\n",
    "https://leetcode.com/problems/3sum/\n",
    "https://leetcode.com/problems/4sum/\n",
    "4 Sum:\n",
    "\n",
    "# Step 1\n",
    "\n",
    "Given an array of integers nums and an integer target, return indices of the two numbers such that they add up to target.\n",
    "\n",
    "You may assume that each input would have exactly one solution, and you may not use the same element twice.\n",
    "\n",
    "You can return the answer in any order.\n",
    "\n",
    " \n",
    "\n",
    "Example 1:\n",
    "\n",
    "Input: nums = [2,7,11,15], target = 9\n",
    "Output: [0,1]\n",
    "Explanation: Because nums[0] + nums[1] == 9, we return [0, 1].\n",
    "\n",
    "\n",
    "\n",
    "# Step 2\n",
    "Given an integer array nums, return all the triplets [nums[i], nums[j], nums[k]] such that i != j, i != k, and j != k, and nums[i] + nums[j] + nums[k] == 0.\n",
    "\n",
    "Notice that the solution set must not contain duplicate triplets.\n",
    "\n",
    "\n",
    "\n",
    "# Step 3\n",
    "Given an array nums of n integers, return an array of all the unique quadruplets [nums[a], nums[b], nums[c], nums[d]] such that:\n",
    "\n",
    "0 <= a, b, c, d < n\n",
    "a, b, c, and d are distinct.\n",
    "nums[a] + nums[b] + nums[c] + nums[d] == target\n",
    "You may return the answer in any order.\n",
    " \n",
    "\n",
    "Example 1:\n",
    "\n",
    "Input: nums = [1,0,-1,0,-2,2], target = 0\n",
    "Output: [[-2,-1,1,2],[-2,0,0,2],[-1,0,0,1]]"
   ]
  },
  {
   "cell_type": "markdown",
   "metadata": {},
   "source": [
    "# Step 4\n",
    "\n",
    "Given an array of intervals where intervals[i] = [starti, endi], merge all overlapping intervals, and return an array of the non-overlapping intervals that cover all the intervals in the input.\n",
    "\n",
    " \n",
    "Example 1:\n",
    "\n",
    "Input: intervals = [[1,3],[2,6],[8,10],[15,18]]\n",
    "Output: [[1,6],[8,10],[15,18]]\n",
    "Explanation: Since intervals [1,3] and [2,6] overlap, merge them into [1,6].\n",
    "Example 2:\n",
    "\n",
    "Input: intervals = [[1,4],[4,5]]\n",
    "Output: [[1,5]]\n",
    "Explanation: Intervals [1,4] and [4,5] are considered overlapping."
   ]
  },
  {
   "cell_type": "markdown",
   "metadata": {},
   "source": [
    "# Data Manipulation\n",
    "\n",
    "Manipulate and handle a dataset, dataset will be given and loading scripts as well."
   ]
  },
  {
   "cell_type": "markdown",
   "metadata": {},
   "source": [
    "# Task\n",
    "\n",
    "## Step 1:\n",
    "First split the data into a train-test split with 80-20 split. Use the train_test_split function from sklearn.\n",
    "\n",
    "## Step 2:\n",
    "Then impute the train and test data matrices by using the average value of each feature. Do this with just numpy operations.\n"
   ]
  },
  {
   "cell_type": "markdown",
   "metadata": {},
   "source": [
    "## Step 3:\n",
    "Then, use the train and test data matrices to train a model.\n",
    "We will now do some feature engineeering. We will code from sratch the creation of quadratic features.\n",
    "\n",
    "Transform the data to include quadratic features, i.e. suppose we had a feature vector $$[x_1,x_2]$$ we want to transform it to:\n",
    "\n",
    "$$ [x_1,x_2, x_1^2,x_2^2,x_1 x_2]$$\n",
    "\n",
    "If the previous feature dimension was $d$, it will now become $2d + \\frac{d(d-1)}{2}$\n",
    "\n",
    "Transform both train and test splits and store them in a different data matrix "
   ]
  },
  {
   "cell_type": "markdown",
   "metadata": {},
   "source": [
    "# Data Analysis and Viz"
   ]
  },
  {
   "cell_type": "markdown",
   "metadata": {},
   "source": [
    "# Step 1\n",
    "Compute correlations between all features in X\n",
    "\n",
    "# Step 2\n",
    "Pick out the two features that are the most highly correlated\n",
    "\n",
    "# Step 3\n",
    "Plot on a graph, where one axis is one feature and the other axis is the other feature. \n",
    "\n",
    "# Step 4\n",
    "Plot a linear trend between the two features. "
   ]
  },
  {
   "cell_type": "markdown",
   "metadata": {},
   "source": [
    "# Machine Learning\n",
    "\n",
    "Training and evaluating a model"
   ]
  },
  {
   "cell_type": "markdown",
   "metadata": {},
   "source": [
    "Given the dataset,  already split into train and test.\n",
    "\n",
    "# Step 1\n",
    "Train a logistic regression model (use sklearn), do hyperparameter tuning and pick the best C on the test set in the grid [1e-3,1e-2,1e-1,1e1].\n",
    "\n",
    "Train a random forrest (don't do any hyperparameter tuning).\n",
    "\n",
    "Train a decision tree.\n",
    "\n",
    "# Step 2\n",
    "Evaluate all three models on the test set and get their accuracies, AUC, F1 score."
   ]
  },
  {
   "cell_type": "markdown",
   "metadata": {},
   "source": [
    "# Defining Classes and Boilerplate code"
   ]
  },
  {
   "cell_type": "markdown",
   "metadata": {},
   "source": [
    "# Step 1\n",
    "\n",
    "Define a class for a node (call it Node) that has attributes: text (string), id (integer), location(string), time (float). \n",
    "\n",
    "The class should have a constructor that can set all 4 values  and has methods that set the value of each attribute to user specified value. \n",
    "\n",
    "Furthermore, create a method that adds a certain value to the time attribute.\n",
    "\n",
    "# Step 2\n",
    "\n",
    "Define a class for a graph (call it Node) that has as attribute a list of nodes.\n",
    "\n",
    "Create a method that appends an element to the list of nodes.\n",
    "\n",
    "Create a method that calculates the total time for all the nodes in the Graph. \n",
    "  \n",
    "Create a method that prints the name of all the nodes in the graph.\n"
   ]
  },
  {
   "cell_type": "markdown",
   "metadata": {},
   "source": [
    "# Writing Tests for a Code"
   ]
  },
  {
   "cell_type": "markdown",
   "metadata": {},
   "source": [
    "# Task\n",
    "We want to test an api for the following task:\n",
    "\n",
    "\n",
    "* Given a string s containing just the characters '(', ')', '{', '}', '[' and ']', determine if the input string is valid.\n",
    "\n",
    "  An input string is valid if:\n",
    "\n",
    "  Open brackets must be closed by the same type of brackets.\n",
    "  Open brackets must be closed in the correct order.\n",
    " \n",
    "  Example 1:\n",
    "\n",
    "  Input: s = \"()\"\n",
    "  Output: true\n",
    "  Example 2:\n",
    "\n",
    "  Input: s = \"()[]{}\"\n",
    "  Output: true\n",
    "  Example 3:\n",
    "\n",
    "  Input: s = \"(]\"\n",
    "  Output: false\n",
    " \n",
    "  Constraints:\n",
    "  1 <= s.length <= 104\n",
    "  s consists of parentheses only '()[]{}\n",
    "\n",
    "\n",
    "\n",
    "TODO: Write several test functions to make that the API function isValid(str) works properly.\n",
    "\n",
    "* Create a class called Testing, inside that class write different test functions that test different aspects of the API (e.g. does it work with '()' )), aim for 4 tests. \n",
    "\n",
    "\n",
    "* Write a method that runs all the tests and returns the average success rate, the standard deviation of the sucess rate.\n"
   ]
  },
  {
   "cell_type": "code",
   "execution_count": null,
   "metadata": {},
   "outputs": [],
   "source": [
    "# Code to test\n",
    "def isValid(s):\n",
    "    \"\"\"\n",
    "    :type s: str\n",
    "    :rtype: bool\n",
    "    \"\"\"\n",
    "    n = len(s)\n",
    "\n",
    "    if n % 2 != 0:\n",
    "        return False\n",
    "        \n",
    "    while '()' in s or '{}' in s or '[]' in s:\n",
    "        s = s.replace('{}','').replace('()','').replace('[]','')\n",
    "    \n",
    "    if s == '':\n",
    "        return True\n",
    "    else:\n",
    "        return False"
   ]
  },
  {
   "cell_type": "markdown",
   "metadata": {},
   "source": [
    "Write different test cases for the above function."
   ]
  },
  {
   "cell_type": "markdown",
   "metadata": {},
   "source": [
    "# Editing Existing Code"
   ]
  },
  {
   "cell_type": "markdown",
   "metadata": {},
   "source": [
    " Given the following class, this class is a Retreiver which given a set of numerical vectors and a paramter k, can return the k-nearest neighbors of a given vector.\n",
    "\n",
    " Perform the following edits to the code:\n",
    "\n",
    " -  write a method that returns the least similar k vectors\n",
    " -  write a method that given a set of query vectors, returns the top k vectors for each of the query vectors\n",
    " -  create a method to append new vectors to the already vectors in Retreiver\n",
    " -  create a new distance function that instead of norm we make it a weighted distance as follows:\n",
    "\n",
    "    Compute maximum scale of each feature on the training set:\n",
    "\n",
    "    $$ scales = [\\max_{i}(X_{1,i}), \\cdots, \\max_{i}(X_{d,i}),] $$\n",
    "\n",
    "    Then let the distance function be:\n",
    "\n",
    "    $$ dist(x,z) = \\sum_i \\frac{1}{scales[i]} * (x_i - z_i)^2 $$\n",
    "- create a method to change k to user specified value"
   ]
  },
  {
   "cell_type": "code",
   "execution_count": 28,
   "metadata": {},
   "outputs": [],
   "source": [
    "import numpy as np\n",
    "class Retreiver:\n",
    "    def __init__(self, vectors, k):\n",
    "        self.vectors = vectors\n",
    "        self.k = k\n",
    "    \n",
    "    def distance(self, query):\n",
    "        ''' \n",
    "        query: single numpy arrray\n",
    "        return: inverse l2 distances from query to the vectors\n",
    "        '''\n",
    "        distances = np.linalg.norm(self.vectors - query, axis=1)\n",
    "        return distances\n",
    "    \n",
    "\n",
    "    def get_top_k_similar_vectors(self, query):\n",
    "        '''\n",
    "        query: single numpy array\n",
    "        return: top k similar vectors\n",
    "        '''\n",
    "        scores = self.distance(query)\n",
    "        # np.argsort sorts in ascending order\n",
    "        indices_top = np.argsort(scores)\n",
    "        top_k_indices = indices_top[:self.k]\n",
    "        return self.vectors[top_k_indices]"
   ]
  },
  {
   "cell_type": "code",
   "execution_count": 29,
   "metadata": {},
   "outputs": [
    {
     "name": "stdout",
     "output_type": "stream",
     "text": [
      "[[1 2 3]\n",
      " [4 5 6]]\n"
     ]
    }
   ],
   "source": [
    "# test retriever class\n",
    "vectors = np.array([[1,2,3],[4,5,6],[7,8,9]])\n",
    "k = 2\n",
    "retriever = Retreiver(vectors, k)\n",
    "query = np.array([1,2,5])\n",
    "print(retriever.get_top_k_similar_vectors(query))"
   ]
  },
  {
   "cell_type": "markdown",
   "metadata": {},
   "source": [
    "# Logistic Regression\n",
    "\n",
    "\n",
    "\n",
    "We will implement a custom logistic regression classifier with l2 regularization for this task.\n",
    "\n",
    "Recall: logsitic regression we learn a weight vector $w \\in \\mathbb{R}^d$ and $b \\in \\mathbb{R}$, and predict the probability of the label being 1 as $ \\frac{1}{1 + \\exp(-(w^x + b))}$ where this is the sigmoid functio applied to $w^x + b$\n",
    "\n",
    "To learn the weights, we use gradient descent:\n",
    "\n",
    "for each iteration we do the update:\n",
    "\n",
    "$$ w \\gets w + \\alpha * ( \\sum_i x_i*(Y_i -sigmoid(w^x_i + b) ) - 2 \\lambda w)$$\n",
    "\n",
    "and \n",
    "\n",
    "$$ b \\gets b + \\alpha * ( \\sum_i (Y_i -sigmoid(w^x_i + b) ))$$\n",
    "\n",
    "\n",
    "Implement a logistic regression that can handle custom number of iterations, specified learning rate alpha, specified regularization parameter lambda.\n",
    "\n",
    "Fit the model on the training data.\n",
    "\n",
    "Compare the accuracies on the test sets.\n",
    "\n",
    "Try for 100 iterations, 0.1 learning rate and 1e-5 for lambda."
   ]
  }
 ],
 "metadata": {
  "kernelspec": {
   "display_name": "Python 3.8.2 64-bit",
   "language": "python",
   "name": "python3"
  },
  "language_info": {
   "codemirror_mode": {
    "name": "ipython",
    "version": 3
   },
   "file_extension": ".py",
   "mimetype": "text/x-python",
   "name": "python",
   "nbconvert_exporter": "python",
   "pygments_lexer": "ipython3",
   "version": "3.8.2"
  },
  "orig_nbformat": 4,
  "vscode": {
   "interpreter": {
    "hash": "916dbcbb3f70747c44a77c7bcd40155683ae19c65e1c03b4aa3499c5328201f1"
   }
  }
 },
 "nbformat": 4,
 "nbformat_minor": 2
}
